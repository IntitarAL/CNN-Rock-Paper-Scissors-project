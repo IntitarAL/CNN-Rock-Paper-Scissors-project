{
 "cells": [
  {
   "cell_type": "code",
   "execution_count": null,
   "metadata": {},
   "outputs": [],
   "source": [
    "%pip install rembg\n",
    "%pip install PIL"
   ]
  },
  {
   "cell_type": "code",
   "execution_count": 5,
   "metadata": {},
   "outputs": [],
   "source": [
    "from rembg import remove \n",
    "from PIL import Image "
   ]
  },
  {
   "cell_type": "code",
   "execution_count": 19,
   "metadata": {},
   "outputs": [],
   "source": [
    "image_path =  'C://Users//Abdullah//Desktop//IMG_2391.jpeg'\n",
    "\n",
    "# Store path of the output image in output_path \n",
    "output_path = 'C://Users//Abdullah//Desktop//rps task//output_image.jpeg'"
   ]
  },
  {
   "cell_type": "code",
   "execution_count": 20,
   "metadata": {},
   "outputs": [],
   "source": [
    "# Processing the image \n",
    "input = Image.open(image_path) \n",
    "input = input.resize((64,64))\n",
    "# Removing the background from the given Image \n",
    "output = remove(input) \n",
    "\n",
    "output = output.convert('L')\n",
    "  \n",
    "#Saving the image in the given path \n",
    "output.save(output_path) "
   ]
  },
  {
   "cell_type": "code",
   "execution_count": 21,
   "metadata": {},
   "outputs": [
    {
     "data": {
      "image/png": "[encoded data removed]",
      "text/plain": [
       "<PIL.Image.Image image mode=L size=64x64>"
      ]
     },
     "execution_count": 21,
     "metadata": {},
     "output_type": "execute_result"
    }
   ],
   "source": [
    "output"
   ]
  }
 ],
 "metadata": {
  "kernelspec": {
   "display_name": "t5",
   "language": "python",
   "name": "python3"
  },
  "language_info": {
   "codemirror_mode": {
    "name": "ipython",
    "version": 3
   },
   "file_extension": ".py",
   "mimetype": "text/x-python",
   "name": "python",
   "nbconvert_exporter": "python",
   "pygments_lexer": "ipython3",
   "version": "3.7.8"
  }
 },
 "nbformat": 4,
 "nbformat_minor": 2
}
