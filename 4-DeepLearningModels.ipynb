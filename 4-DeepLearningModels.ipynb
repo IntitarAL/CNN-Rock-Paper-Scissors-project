{
 "cells": [
  {
   "cell_type": "code",
   "execution_count": 2,
   "metadata": {},
   "outputs": [],
   "source": [
    "import os\n",
    "import glob\n",
    "from PIL import Image\n",
    "from pillow_heif import register_heif_opener\n",
    "from rembg import remove\n",
    "import cv2\n",
    "import numpy as np"
   ]
  },
  {
   "cell_type": "code",
   "execution_count": 26,
   "metadata": {},
   "outputs": [
    {
     "name": "stdout",
     "output_type": "stream",
     "text": [
      "Train Images Shape: (590, 512, 512, 3)\n",
      "Train Labels Shape: (590,)\n",
      "Valid Images Shape: (169, 512, 512, 3)\n",
      "Valid Labels Shape: (169,)\n",
      "Test Images Shape: (82, 512, 512, 3)\n",
      "Test Labels Shape: (82,)\n"
     ]
    }
   ],
   "source": [
    "def load_images_from_folder(folder_path):\n",
    "    images = []\n",
    "    labels = []\n",
    "    class_folders = os.listdir(folder_path)\n",
    "    for class_folder in class_folders:\n",
    "        class_path = os.path.join(folder_path, class_folder)\n",
    "        for filename in os.listdir(class_path):\n",
    "            img_path = os.path.join(class_path, filename)\n",
    "            img = cv2.imread(img_path)\n",
    "            if img is not None:\n",
    "                images.append(img)\n",
    "                labels.append(class_folder)\n",
    "    return np.array(images), np.array(labels)\n",
    "\n",
    "# Path to the folder containing train, valid, and test folders\n",
    "splited_data_path = r'..\\\\datasets\\\\data_split'\n",
    "\n",
    "# Load train images\n",
    "train_images, train_labels = load_images_from_folder(os.path.join(splited_data_path, 'train'))\n",
    "\n",
    "# Load validation images\n",
    "valid_images, valid_labels = load_images_from_folder(os.path.join(splited_data_path, 'valid'))\n",
    "\n",
    "# Load test images\n",
    "test_images, test_labels = load_images_from_folder(os.path.join(splited_data_path, 'test'))\n",
    "\n",
    "# Check shapes\n",
    "print(\"Train Images Shape:\", train_images.shape)\n",
    "print(\"Train Labels Shape:\", train_labels.shape)\n",
    "print(\"Valid Images Shape:\", valid_images.shape)\n",
    "print(\"Valid Labels Shape:\", valid_labels.shape)\n",
    "print(\"Test Images Shape:\", test_images.shape)\n",
    "print(\"Test Labels Shape:\", test_labels.shape)\n"
   ]
  },
  {
   "cell_type": "code",
   "execution_count": null,
   "metadata": {},
   "outputs": [],
   "source": []
  },
  {
   "cell_type": "code",
   "execution_count": null,
   "metadata": {},
   "outputs": [],
   "source": []
  },
  {
   "cell_type": "code",
   "execution_count": null,
   "metadata": {},
   "outputs": [],
   "source": []
  },
  {
   "cell_type": "code",
   "execution_count": null,
   "metadata": {},
   "outputs": [],
   "source": []
  }
 ],
 "metadata": {
  "kernelspec": {
   "display_name": "t5",
   "language": "python",
   "name": "python3"
  },
  "language_info": {
   "codemirror_mode": {
    "name": "ipython",
    "version": 3
   },
   "file_extension": ".py",
   "mimetype": "text/x-python",
   "name": "python",
   "nbconvert_exporter": "python",
   "pygments_lexer": "ipython3",
   "version": "3.9.18"
  }
 },
 "nbformat": 4,
 "nbformat_minor": 2
}
